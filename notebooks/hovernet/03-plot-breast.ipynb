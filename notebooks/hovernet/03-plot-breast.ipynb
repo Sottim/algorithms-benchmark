{
 "cells": [
  {
   "cell_type": "code",
   "execution_count": 1,
   "id": "f9636c27",
   "metadata": {},
   "outputs": [],
   "source": [
    "import matplotlib.pyplot as plt\n",
    "import os\n",
    "import cv2"
   ]
  },
  {
   "cell_type": "code",
   "execution_count": null,
   "id": "62f6506a",
   "metadata": {},
   "outputs": [],
   "source": [
    "ORIGINAL_IMAGES_DIR = '/home/KutumLabGPU/Documents/santosh/TNBC-project/input-dir/pannuke/breast/patches' \n",
    "GT_OVERLAY_DIR = '/home/KutumLabGPU/Documents/santosh/TNBC-project/input-dir/pannuke/overlay/overlays-legend' \n",
    "PREDICTION_OVERLAY_DIR = '/home/KutumLabGPU/Documents/santosh/TNBC-project/prediction-results/hovernet/overlay'"
   ]
  }
 ],
 "metadata": {
  "kernelspec": {
   "display_name": "base",
   "language": "python",
   "name": "python3"
  },
  "language_info": {
   "codemirror_mode": {
    "name": "ipython",
    "version": 3
   },
   "file_extension": ".py",
   "mimetype": "text/x-python",
   "name": "python",
   "nbconvert_exporter": "python",
   "pygments_lexer": "ipython3",
   "version": "3.11.9"
  }
 },
 "nbformat": 4,
 "nbformat_minor": 5
}
