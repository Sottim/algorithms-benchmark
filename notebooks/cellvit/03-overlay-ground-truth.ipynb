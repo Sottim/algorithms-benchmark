{
 "cells": [
  {
   "cell_type": "code",
   "execution_count": 68,
   "id": "d9e19a62",
   "metadata": {},
   "outputs": [],
   "source": [
    "import numpy as np\n",
    "import os\n",
    "import cv2\n",
    "from tqdm import tqdm"
   ]
  },
  {
   "cell_type": "code",
   "execution_count": 69,
   "id": "e45836a1",
   "metadata": {},
   "outputs": [],
   "source": [
    "# Paths\n",
    "ORIGINAL_IMAGES_DIR = '/home/KutumLabGPU/Documents/santosh/TNBC-project/input-dir/pannuke/patches' \n",
    "ALL_MASKS_NPY_PATH = '/media/network/hdd/public_datasets_archive/01_notebooks/pannuke/raw_files4inference/masks/masks.npy'\n",
    "OUTPUT_OVERLAY_DIR = '/home/KutumLabGPU/Documents/santosh/TNBC-project/input-dir/pannuke/overlay/overlays-legend' \n",
    "if not os.path.exists(OUTPUT_OVERLAY_DIR):\n",
    "    os.makedirs(OUTPUT_OVERLAY_DIR)"
   ]
  },
  {
   "cell_type": "code",
   "execution_count": 70,
   "id": "0995fffe",
   "metadata": {},
   "outputs": [],
   "source": [
    "class_info = {\n",
    "    0: {'name': 'Neoplastic', 'color': (0, 0, 255)}, # Red\n",
    "    1: {'name': 'Inflammatory', 'color': (0, 255, 0)}, # Green\n",
    "    2: {'name': 'Connective', 'color': (255, 0, 0)}, # Blue\n",
    "    3: {'name': 'Dead', 'color': (0, 255, 255)},     # Yellow\n",
    "    4: {'name': 'Epithelial', 'color': (255, 255, 0)},  # Cyan\n",
    "}"
   ]
  },
  {
   "cell_type": "code",
   "execution_count": 71,
   "id": "756ca3f6",
   "metadata": {},
   "outputs": [],
   "source": [
    "legend_items = [(info['name'], info['color']) for idx, info in sorted(class_info.items())]"
   ]
  },
  {
   "cell_type": "code",
   "execution_count": 72,
   "id": "d40be8b8",
   "metadata": {},
   "outputs": [
    {
     "name": "stdout",
     "output_type": "stream",
     "text": [
      "Loading masks from /media/network/hdd/public_datasets_archive/01_notebooks/pannuke/raw_files4inference/masks/masks.npy...\n",
      "Masks loaded successfully. Shape: (10, 256, 256, 6)\n",
      "Converting object array to standard numpy array...\n",
      "Conversion successful. New shape: (10, 256, 256, 6)\n"
     ]
    }
   ],
   "source": [
    "print(f\"Loading masks from {ALL_MASKS_NPY_PATH}...\")\n",
    "\n",
    "all_masks = np.load(ALL_MASKS_NPY_PATH, allow_pickle=True) \n",
    "print(f\"Masks loaded successfully. Shape: {all_masks.shape}\")\n",
    "\n",
    "if all_masks.dtype == 'object':\n",
    "    print(\"Converting object array to standard numpy array...\")\n",
    "    all_masks = np.stack(all_masks, axis=0)\n",
    "    print(f\"Conversion successful. New shape: {all_masks.shape}\")"
   ]
  },
  {
   "cell_type": "code",
   "execution_count": 73,
   "id": "e5191393",
   "metadata": {},
   "outputs": [
    {
     "name": "stdout",
     "output_type": "stream",
     "text": [
      "Listing image files from /home/KutumLabGPU/Documents/santosh/TNBC-project/input-dir/pannuke/patches...\n",
      "Found 10 image files.\n"
     ]
    }
   ],
   "source": [
    "print(f\"Listing image files from {ORIGINAL_IMAGES_DIR}...\")\n",
    "image_files = sorted([f for f in os.listdir(ORIGINAL_IMAGES_DIR) if f.lower().endswith(('.png', '.jpg', '.jpeg', '.tif', '.tiff'))])\n",
    "print(f\"Found {len(image_files)} image files.\")"
   ]
  },
  {
   "cell_type": "code",
   "execution_count": 74,
   "id": "d09ab77e",
   "metadata": {},
   "outputs": [
    {
     "name": "stdout",
     "output_type": "stream",
     "text": [
      "Image dimensions: (1024x1024)\n",
      "Mask dimensions: (256x256)\n"
     ]
    }
   ],
   "source": [
    "first_image_path = os.path.join(ORIGINAL_IMAGES_DIR, image_files[0])\n",
    "first_img = cv2.imread(first_image_path)\n",
    "if first_img is None:\n",
    "    print(f\"Error loading first image {first_image_path}. Check file integrity.\")\n",
    "    exit()\n",
    "img_height, img_width = first_img.shape[:2]\n",
    "\n",
    "mask_num_masks, mask_height, mask_width, num_mask_channels = all_masks.shape\n",
    "expected_mask_channels = len(class_info) + 1\n",
    "\n",
    "print(f\"Image dimensions: ({img_width}x{img_height})\")\n",
    "print(f\"Mask dimensions: ({mask_width}x{mask_height})\")"
   ]
  },
  {
   "cell_type": "code",
   "execution_count": 75,
   "id": "91f336c5",
   "metadata": {},
   "outputs": [
    {
     "name": "stdout",
     "output_type": "stream",
     "text": [
      "Mask dimensions are smaller than image dimensions. Scaling contours by (4.0, 4.0).\n"
     ]
    }
   ],
   "source": [
    "scale_factor_x = img_width / mask_width\n",
    "scale_factor_y = img_height / mask_height\n",
    "\n",
    "if scale_factor_x != 1.0 or scale_factor_y != 1.0:\n",
    "    print(f\"Mask dimensions are smaller than image dimensions. Scaling contours by ({scale_factor_x}, {scale_factor_y}).\")\n",
    "else:\n",
    "    print(\"Mask and image dimensions match. No scaling needed.\")\n"
   ]
  },
  {
   "cell_type": "code",
   "execution_count": 76,
   "id": "32fbf8f1",
   "metadata": {},
   "outputs": [],
   "source": [
    "if num_mask_channels != expected_mask_channels:\n",
    "     print(f\"Warning: Mask .npy has {num_mask_channels} channels ({all_masks.shape[-1]}), but expected {expected_mask_channels} based on class_info (+ background).\")\n",
    "     print(\"Proceeding assuming channels 0-4 correspond to the classes for overlay.\")\n",
    "     if all_masks.shape[-1] < len(class_info):\n",
    "          print(f\"Error: Mask only has {all_masks.shape[-1]} channels, fewer than the {len(class_info)} classes defined for overlay. Exiting.\")\n",
    "          exit()"
   ]
  },
  {
   "cell_type": "code",
   "execution_count": 77,
   "id": "039a9c46",
   "metadata": {},
   "outputs": [],
   "source": [
    "# Legend parameters\n",
    "\n",
    "legend_start_x_offset_from_right = 250 # Start 250 pixels from the right edge\n",
    "legend_start_y = 20 # Start 20 pixels from the top\n",
    "color_box_size = 20\n",
    "text_offset_x = color_box_size + 10 \n",
    "line_height = 30 \n",
    "font = cv2.FONT_HERSHEY_SIMPLEX\n",
    "font_scale = 0.7\n",
    "font_thickness = 2 \n",
    "text_color = (0, 0, 0) \n",
    "legend_bg_padding = 10 \n",
    "alpha_value = 0.5 \n",
    "\n",
    "# Pre-calculate legend background dimensions and position \n",
    "\n",
    "legend_start_x = img_width - legend_start_x_offset_from_right \n",
    "\n",
    "legend_bg_width = 230 \n",
    "legend_bg_height = len(legend_items) * line_height + 2 * legend_bg_padding\n",
    "\n",
    "legend_bg_rect_start = (max(0, legend_start_x - legend_bg_padding), max(0, legend_start_y - legend_bg_padding))\n",
    "legend_bg_rect_end = (min(img_width, legend_start_x - legend_bg_padding + legend_bg_width), min(img_height, legend_start_y - legend_bg_padding + legend_bg_height))"
   ]
  },
  {
   "cell_type": "code",
   "execution_count": 78,
   "id": "6d5f409f",
   "metadata": {},
   "outputs": [
    {
     "name": "stdout",
     "output_type": "stream",
     "text": [
      "Starting overlay process...\n"
     ]
    },
    {
     "name": "stderr",
     "output_type": "stream",
     "text": [
      "Processing Images: 100%|██████████| 10/10 [00:00<00:00, 10.29it/s]"
     ]
    },
    {
     "name": "stdout",
     "output_type": "stream",
     "text": [
      "Overlay process finished.\n",
      "Overlaid images saved to /home/KutumLabGPU/Documents/santosh/TNBC-project/input-dir/pannuke/overlay/overlays-legend\n"
     ]
    },
    {
     "name": "stderr",
     "output_type": "stream",
     "text": [
      "\n"
     ]
    }
   ],
   "source": [
    "print(\"Starting overlay process...\")\n",
    "\n",
    "for i, (image_file, current_mask) in tqdm(enumerate(zip(image_files, all_masks)), total=len(image_files), desc=\"Processing Images\"):\n",
    "    image_path = os.path.join(ORIGINAL_IMAGES_DIR, image_file)\n",
    "    \n",
    "    image = cv2.imread(image_path) \n",
    "    \n",
    "    if image is None:\n",
    "        tqdm.write(f\"Warning: Could not load image {image_file}. Skipping.\")\n",
    "        continue\n",
    "        \n",
    "    if image.shape[:2] != (img_height, img_width):\n",
    "         tqdm.write(f\"Warning: Image {image_file} has unexpected dimensions {image.shape[:2]}. Skipping.\")\n",
    "         continue\n",
    "\n",
    "    if len(image.shape) == 2:\n",
    "        image = cv2.cvtColor(image, cv2.COLOR_GRAY2BGR)\n",
    "\n",
    "    final_image_with_overlay = image.copy() \n",
    "    \n",
    "    for class_idx in range(len(class_info)): \n",
    "        \n",
    "        if class_idx >= current_mask.shape[-1]:\n",
    "             continue\n",
    "\n",
    "        class_mask = current_mask[:, :, class_idx]\n",
    "        instance_ids = np.unique(class_mask[class_mask > 0])\n",
    "\n",
    "        if len(instance_ids) > 0:\n",
    "            color = class_info[class_idx]['color']\n",
    "            \n",
    "            for instance_id in instance_ids:\n",
    "                instance_binary_mask = (class_mask == instance_id).astype(np.uint8) * 255\n",
    "\n",
    "                contours, _ = cv2.findContours(instance_binary_mask, cv2.RETR_EXTERNAL, cv2.CHAIN_APPROX_SIMPLE)\n",
    "                \n",
    "                scaled_contours = []\n",
    "                for contour in contours:\n",
    "                    if contour.shape[0] == 0:\n",
    "                         continue\n",
    "\n",
    "                    scaled_points = contour.squeeze().astype(np.float32) \n",
    "                    \n",
    "                    if scaled_points.ndim == 1:\n",
    "                         scaled_points = scaled_points[np.newaxis, :]\n",
    "\n",
    "                    scaled_points[:, 0] *= scale_factor_x\n",
    "                    scaled_points[:, 1] *= scale_factor_y\n",
    "\n",
    "                    scaled_points = np.round(scaled_points).astype(np.int32)\n",
    "                    scaled_contour = scaled_points[:, np.newaxis, :]\n",
    "                    scaled_contours.append(scaled_contour)\n",
    "\n",
    "                # Draw the boundary with thickness 2 pixels\n",
    "                cv2.drawContours(final_image_with_overlay, scaled_contours, -1, color, 2) \n",
    "\n",
    "    # Draw the Legend\n",
    "    bg_x1, bg_y1 = legend_bg_rect_start\n",
    "    bg_x2, bg_y2 = legend_bg_rect_end\n",
    "    \n",
    "    if bg_x2 > bg_x1 and bg_y2 > bg_y1:\n",
    "        sub_img = final_image_with_overlay[bg_y1:bg_y2, bg_x1:bg_x2]\n",
    "        white_rect = np.full(sub_img.shape, 255, dtype=np.uint8)\n",
    "        cv2.addWeighted(sub_img, 1 - alpha_value, white_rect, alpha_value, 0, sub_img)\n",
    "        final_image_with_overlay[bg_y1:bg_y2, bg_x1:bg_x2] = sub_img\n",
    "\n",
    "    current_y = legend_start_y\n",
    "    for name, color_bgr in legend_items:\n",
    "        cv2.rectangle(\n",
    "            final_image_with_overlay,\n",
    "            (legend_start_x, current_y),\n",
    "            (legend_start_x + color_box_size, current_y + color_box_size),\n",
    "            color_bgr,\n",
    "            -1 \n",
    "        )\n",
    "        \n",
    "        text_x = legend_start_x + text_offset_x\n",
    "        text_y = current_y + color_box_size - 5 \n",
    "\n",
    "        if text_x < img_width and text_y < img_height:\n",
    "             cv2.putText(\n",
    "                 final_image_with_overlay,\n",
    "                 name,\n",
    "                 (text_x, text_y),\n",
    "                 font,\n",
    "                 font_scale,\n",
    "                 text_color,\n",
    "                 font_thickness,\n",
    "                 cv2.LINE_AA\n",
    "             )\n",
    "             \n",
    "        current_y += line_height \n",
    "\n",
    "    output_filename = f\"gt-overlaid-legend_{os.path.splitext(image_file)[0]}.png\"\n",
    "    output_path = os.path.join(OUTPUT_OVERLAY_DIR, output_filename)\n",
    "\n",
    "    success = cv2.imwrite(output_path, final_image_with_overlay)\n",
    "    if not success:\n",
    "         tqdm.write(f\"Warning: Could not save overlaid image {output_path}.\")\n",
    "\n",
    "print(\"Overlay process finished.\")\n",
    "print(f\"Overlaid images saved to {OUTPUT_OVERLAY_DIR}\")"
   ]
  },
  {
   "cell_type": "code",
   "execution_count": 79,
   "id": "8f07daae",
   "metadata": {},
   "outputs": [
    {
     "name": "stdout",
     "output_type": "stream",
     "text": [
      "Starting overlay process without legend...\n",
      "Directory created at /home/KutumLabGPU/Documents/santosh/TNBC-project/input-dir/pannuke/overlay/overlays-no-legend\n"
     ]
    }
   ],
   "source": [
    "# Remove the legends\n",
    "print(\"Starting overlay process without legend...\")\n",
    "\n",
    "OUTPUT_OVERLAY_DIR_N0_LEGEND = '/home/KutumLabGPU/Documents/santosh/TNBC-project/input-dir/pannuke/overlay/overlays-no-legend' \n",
    "if not os.path.exists(OUTPUT_OVERLAY_DIR_N0_LEGEND):\n",
    "    os.makedirs(OUTPUT_OVERLAY_DIR_N0_LEGEND)\n",
    "\n",
    "print(f\"Directory created at {OUTPUT_OVERLAY_DIR_N0_LEGEND}\")"
   ]
  },
  {
   "cell_type": "code",
   "execution_count": 80,
   "id": "a2db82a4",
   "metadata": {},
   "outputs": [
    {
     "name": "stderr",
     "output_type": "stream",
     "text": [
      "Processing Images: 100%|██████████| 10/10 [00:00<00:00, 10.93it/s]"
     ]
    },
    {
     "name": "stdout",
     "output_type": "stream",
     "text": [
      "Overlay process finished.\n",
      "Overlaid images saved to /home/KutumLabGPU/Documents/santosh/TNBC-project/input-dir/pannuke/overlay/overlays-no-legend\n"
     ]
    },
    {
     "name": "stderr",
     "output_type": "stream",
     "text": [
      "\n"
     ]
    }
   ],
   "source": [
    "for i, (image_file, current_mask) in tqdm(enumerate(zip(image_files, all_masks)), total=len(image_files), desc=\"Processing Images\"):\n",
    "    image_path = os.path.join(ORIGINAL_IMAGES_DIR, image_file)\n",
    "    \n",
    "    image = cv2.imread(image_path) \n",
    "    \n",
    "    if image is None:\n",
    "        tqdm.write(f\"Warning: Could not load image {image_file}. Skipping.\")\n",
    "        continue\n",
    "        \n",
    "    if image.shape[:2] != (img_height, img_width):\n",
    "         tqdm.write(f\"Warning: Image {image_file} has unexpected dimensions {image.shape[:2]}. Skipping.\")\n",
    "         continue\n",
    "\n",
    "    if len(image.shape) == 2:\n",
    "        image = cv2.cvtColor(image, cv2.COLOR_GRAY2BGR)\n",
    "\n",
    "    final_image_with_overlay = image.copy() \n",
    "    \n",
    "    for class_idx in range(len(class_info)): \n",
    "        \n",
    "        if class_idx >= current_mask.shape[-1]:\n",
    "             continue\n",
    "\n",
    "        class_mask = current_mask[:, :, class_idx]\n",
    "        instance_ids = np.unique(class_mask[class_mask > 0])\n",
    "\n",
    "        if len(instance_ids) > 0:\n",
    "            color = class_info[class_idx]['color']\n",
    "            \n",
    "            for instance_id in instance_ids:\n",
    "                instance_binary_mask = (class_mask == instance_id).astype(np.uint8) * 255\n",
    "\n",
    "                contours, _ = cv2.findContours(instance_binary_mask, cv2.RETR_EXTERNAL, cv2.CHAIN_APPROX_SIMPLE)\n",
    "                \n",
    "                scaled_contours = []\n",
    "                for contour in contours:\n",
    "                    if contour.shape[0] == 0:\n",
    "                         continue\n",
    "\n",
    "                    scaled_points = contour.squeeze().astype(np.float32) \n",
    "                    \n",
    "                    if scaled_points.ndim == 1:\n",
    "                         scaled_points = scaled_points[np.newaxis, :]\n",
    "\n",
    "                    scaled_points[:, 0] *= scale_factor_x\n",
    "                    scaled_points[:, 1] *= scale_factor_y\n",
    "\n",
    "                    scaled_points = np.round(scaled_points).astype(np.int32)\n",
    "                    scaled_contour = scaled_points[:, np.newaxis, :]\n",
    "                    scaled_contours.append(scaled_contour)\n",
    "\n",
    "                cv2.drawContours(final_image_with_overlay, scaled_contours, -1, color, 2) # Draw boundary, thickness 2\n",
    "\n",
    "    output_filename = f\"gt-overlaid_{os.path.splitext(image_file)[0]}.png\"\n",
    "    output_path = os.path.join(OUTPUT_OVERLAY_DIR_N0_LEGEND, output_filename) \n",
    "\n",
    "    success = cv2.imwrite(output_path, final_image_with_overlay)\n",
    "    if not success:\n",
    "         tqdm.write(f\"Warning: Could not save overlaid image {output_path}.\")\n",
    "\n",
    "print(\"Overlay process finished.\")\n",
    "print(f\"Overlaid images saved to {OUTPUT_OVERLAY_DIR_N0_LEGEND}\")"
   ]
  },
  {
   "cell_type": "code",
   "execution_count": null,
   "id": "0f27575c",
   "metadata": {},
   "outputs": [],
   "source": []
  }
 ],
 "metadata": {
  "kernelspec": {
   "display_name": "base",
   "language": "python",
   "name": "python3"
  },
  "language_info": {
   "codemirror_mode": {
    "name": "ipython",
    "version": 3
   },
   "file_extension": ".py",
   "mimetype": "text/x-python",
   "name": "python",
   "nbconvert_exporter": "python",
   "pygments_lexer": "ipython3",
   "version": "3.11.9"
  }
 },
 "nbformat": 4,
 "nbformat_minor": 5
}
