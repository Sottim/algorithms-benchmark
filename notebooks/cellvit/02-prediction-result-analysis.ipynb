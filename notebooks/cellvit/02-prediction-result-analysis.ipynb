{
 "cells": [
  {
   "cell_type": "code",
   "execution_count": 21,
   "id": "7ad54798",
   "metadata": {},
   "outputs": [],
   "source": [
    "import cv2\n",
    "import numpy as np\n",
    "import os \n",
    "import json"
   ]
  },
  {
   "cell_type": "code",
   "execution_count": 22,
   "id": "984033e1",
   "metadata": {},
   "outputs": [],
   "source": [
    "JSON_PREDICTIONS_PATH = '/home/KutumLabGPU/Documents/santosh/TNBC-project/prediction-results/cellvit/inference-result/instance_segmentation.json'\n",
    "ORIGINAL_IMAGES_DIR = '/home/KutumLabGPU/Documents/santosh/TNBC-project/input-dir/pannuke/patches'\n",
    "OUTPUT_OVERLAY_DIR = '/home/KutumLabGPU/Documents/santosh/TNBC-project/prediction-results/cellvit/overlay'\n",
    "os.makedirs(OUTPUT_OVERLAY_DIR, exist_ok=True)"
   ]
  },
  {
   "cell_type": "code",
   "execution_count": 23,
   "id": "6b1544bb",
   "metadata": {},
   "outputs": [],
   "source": [
    "NUCLEI_TYPE_COLORS = {\n",
    "    \"Connective\": (255, 0, 0),    # Blue\n",
    "    \"Neoplastic\": (0, 0, 255),    # Red\n",
    "    \"Inflammatory\": (0, 255, 0),  # Green\n",
    "    \"Epithelial\": (255, 255, 0),  # Cyan\n",
    "    \"Dead\": (0, 255, 255),        # Yellow\n",
    "}"
   ]
  },
  {
   "cell_type": "code",
   "execution_count": 24,
   "id": "c06001d1",
   "metadata": {},
   "outputs": [
    {
     "name": "stdout",
     "output_type": "stream",
     "text": [
      "Loading nuclei predictions from: /home/KutumLabGPU/Documents/santosh/TNBC-project/prediction-results/cellvit/inference-result/instance_segmentation.json\n",
      "Predictions loaded successfully.\n"
     ]
    }
   ],
   "source": [
    "print(f\"Loading nuclei predictions from: {JSON_PREDICTIONS_PATH}\")\n",
    "with open(JSON_PREDICTIONS_PATH, 'r') as f:\n",
    "    predictions_data = json.load(f)\n",
    "print(\"Predictions loaded successfully.\")"
   ]
  },
  {
   "cell_type": "code",
   "execution_count": 25,
   "id": "dfcac556",
   "metadata": {},
   "outputs": [
    {
     "name": "stdout",
     "output_type": "stream",
     "text": [
      "\n",
      "Total Number of images processed : 10\n"
     ]
    }
   ],
   "source": [
    "total_images = len(predictions_data)\n",
    "print(f\"\\nTotal Number of images processed : {total_images}\")"
   ]
  },
  {
   "cell_type": "code",
   "execution_count": 26,
   "id": "9ed583b1",
   "metadata": {},
   "outputs": [
    {
     "name": "stdout",
     "output_type": "stream",
     "text": [
      "  Processing image_01.png with 21 nuclei...\n",
      "Saved overlaid image: /home/KutumLabGPU/Documents/santosh/TNBC-project/prediction-results/cellvit/overlay/overlay-legend_image_01.png\n",
      "  Processing image_02.png with 0 nuclei...\n",
      "Saved overlaid image: /home/KutumLabGPU/Documents/santosh/TNBC-project/prediction-results/cellvit/overlay/overlay-legend_image_02.png\n",
      "  Processing image_03.png with 1 nuclei...\n",
      "Saved overlaid image: /home/KutumLabGPU/Documents/santosh/TNBC-project/prediction-results/cellvit/overlay/overlay-legend_image_03.png\n",
      "  Processing image_04.png with 0 nuclei...\n",
      "Saved overlaid image: /home/KutumLabGPU/Documents/santosh/TNBC-project/prediction-results/cellvit/overlay/overlay-legend_image_04.png\n"
     ]
    },
    {
     "name": "stdout",
     "output_type": "stream",
     "text": [
      "  Processing image_05.png with 0 nuclei...\n",
      "Saved overlaid image: /home/KutumLabGPU/Documents/santosh/TNBC-project/prediction-results/cellvit/overlay/overlay-legend_image_05.png\n",
      "  Processing image_06.png with 0 nuclei...\n",
      "Saved overlaid image: /home/KutumLabGPU/Documents/santosh/TNBC-project/prediction-results/cellvit/overlay/overlay-legend_image_06.png\n",
      "  Processing image_07.png with 0 nuclei...\n",
      "Saved overlaid image: /home/KutumLabGPU/Documents/santosh/TNBC-project/prediction-results/cellvit/overlay/overlay-legend_image_07.png\n",
      "  Processing image_08.png with 0 nuclei...\n",
      "Saved overlaid image: /home/KutumLabGPU/Documents/santosh/TNBC-project/prediction-results/cellvit/overlay/overlay-legend_image_08.png\n",
      "  Processing image_09.png with 0 nuclei...\n",
      "Saved overlaid image: /home/KutumLabGPU/Documents/santosh/TNBC-project/prediction-results/cellvit/overlay/overlay-legend_image_09.png\n",
      "  Processing image_10.png with 5 nuclei...\n",
      "Saved overlaid image: /home/KutumLabGPU/Documents/santosh/TNBC-project/prediction-results/cellvit/overlay/overlay-legend_image_10.png\n"
     ]
    }
   ],
   "source": [
    "for image_filename, nuclei_data in predictions_data.items():\n",
    "    original_image_path = os.path.join(ORIGINAL_IMAGES_DIR, image_filename)\n",
    "    output_image_path = os.path.join(OUTPUT_OVERLAY_DIR, f\"overlay-legend_{image_filename}\") \n",
    "\n",
    "    # Load the original image\n",
    "    image = cv2.imread(original_image_path)\n",
    "\n",
    "    if image is None:\n",
    "        print(f\"Warning: Could not load image {original_image_path}. Skipping.\")\n",
    "        continue\n",
    "\n",
    "    # Create a copy of the original image to draw on to ensure the original image is not modified in memory\n",
    "    final_image_with_overlay = image.copy() \n",
    "\n",
    "    print(f\"  Processing {image_filename} with {len(nuclei_data)} nuclei...\")\n",
    "\n",
    "    # Iterate through each nucleus in the current image\n",
    "    for nucleus_id, nucleus_info in nuclei_data.items():\n",
    "        contour = nucleus_info.get('contour')\n",
    "        nuclei_type = nucleus_info.get('type', 'UNK') # Default to 'UNK' if type is missing\n",
    "\n",
    "        if contour is None or not contour:\n",
    "            print(f\"    Skipping nucleus {nucleus_id} in {image_filename}: No contour found.\")\n",
    "            continue\n",
    "\n",
    "        contour_np = np.array(contour, dtype=np.int32)\n",
    "        if contour_np.ndim == 2:\n",
    "            contour_np = contour_np.reshape((-1, 1, 2))\n",
    "\n",
    "        color = NUCLEI_TYPE_COLORS.get(nuclei_type, (128, 128, 128))\n",
    "\n",
    "        cv2.drawContours(final_image_with_overlay, [contour_np], -1, color, 2) # thickness of 2 \n",
    "\n",
    "    # --- Add Legend to the Image ---\n",
    "    legend_start_x = image.shape[1] - 250 # Start 250 pixels from the right edge\n",
    "    legend_start_y = 20 # Start 20 pixels from the top\n",
    "    color_box_size = 20\n",
    "    text_offset_x = color_box_size + 10\n",
    "    line_height = 30\n",
    "    font = cv2.FONT_HERSHEY_SIMPLEX\n",
    "    font_scale = 0.7\n",
    "    font_thickness = 2\n",
    "    text_color = (0, 0, 0) # Black text for the legend\n",
    "\n",
    "    legend_bg_width = 230 # Approximate width needed for color box + text\n",
    "    legend_bg_height = len(NUCLEI_TYPE_COLORS) * line_height + 20 # Height based on number of items\n",
    "    legend_bg_rect_start = (legend_start_x - 10, legend_start_y - 10)\n",
    "    legend_bg_rect_end = (legend_start_x - 10 + legend_bg_width, legend_start_y - 10 + legend_bg_height)\n",
    "\n",
    "    # Create a translucent rectangle for the background\n",
    "    sub_img = final_image_with_overlay[legend_bg_rect_start[1]:legend_bg_rect_end[1], legend_bg_rect_start[0]:legend_bg_rect_end[0]]\n",
    "    white_rect = np.full(sub_img.shape, 255, dtype=np.uint8) # White background\n",
    "    alpha_value = 0.5 # 50% transparency\n",
    "    \n",
    "    # Blend the white rectangle with the image region\n",
    "    cv2.addWeighted(sub_img, 1 - alpha_value, white_rect, alpha_value, 0, sub_img)\n",
    "\n",
    "\n",
    "    current_y = legend_start_y\n",
    "    for nuclei_type, color_bgr in NUCLEI_TYPE_COLORS.items():\n",
    "        # Draw color box\n",
    "        cv2.rectangle(\n",
    "            final_image_with_overlay,\n",
    "            (legend_start_x, current_y),\n",
    "            (legend_start_x + color_box_size, current_y + color_box_size),\n",
    "            color_bgr,\n",
    "            -1 \n",
    "        )\n",
    "        outline_color = (0, 0, 0) # Black outline\n",
    "        cv2.putText(\n",
    "            final_image_with_overlay,\n",
    "            nuclei_type,\n",
    "            (legend_start_x + text_offset_x, current_y + color_box_size - 5), # Adjust text position\n",
    "            font,\n",
    "            font_scale,\n",
    "            outline_color,\n",
    "            font_thickness,\n",
    "            cv2.LINE_AA\n",
    "        )\n",
    "        current_y += line_height \n",
    "\n",
    "    # Save the overlaid image\n",
    "    cv2.imwrite(output_image_path, final_image_with_overlay)\n",
    "    print(f\"Saved overlaid image: {output_image_path}\")"
   ]
  },
  {
   "cell_type": "code",
   "execution_count": 27,
   "id": "290fd05d",
   "metadata": {},
   "outputs": [
    {
     "name": "stdout",
     "output_type": "stream",
     "text": [
      "\n",
      "Saving overlay images without legend to: /home/KutumLabGPU/Documents/santosh/TNBC-project/prediction-results/cellvit/overlay-no-legend\n"
     ]
    }
   ],
   "source": [
    "# Overlay without legend\n",
    "OUTPUT_OVERLAY_DIR_NO_LEGEND = '/home/KutumLabGPU/Documents/santosh/TNBC-project/prediction-results/cellvit/overlay-no-legend'\n",
    "os.makedirs(OUTPUT_OVERLAY_DIR_NO_LEGEND, exist_ok=True)\n",
    "\n",
    "print(f\"\\nSaving overlay images without legend to: {OUTPUT_OVERLAY_DIR_NO_LEGEND}\")"
   ]
  },
  {
   "cell_type": "code",
   "execution_count": 28,
   "id": "feb7e620",
   "metadata": {},
   "outputs": [
    {
     "name": "stdout",
     "output_type": "stream",
     "text": [
      "  Processing image_01.png with 21 nuclei...\n",
      "Saved overlaid image: /home/KutumLabGPU/Documents/santosh/TNBC-project/prediction-results/cellvit/overlay-no-legend/overlay-no-legend_image_01.png\n"
     ]
    },
    {
     "name": "stdout",
     "output_type": "stream",
     "text": [
      "  Processing image_02.png with 0 nuclei...\n",
      "Saved overlaid image: /home/KutumLabGPU/Documents/santosh/TNBC-project/prediction-results/cellvit/overlay-no-legend/overlay-no-legend_image_02.png\n",
      "  Processing image_03.png with 1 nuclei...\n",
      "Saved overlaid image: /home/KutumLabGPU/Documents/santosh/TNBC-project/prediction-results/cellvit/overlay-no-legend/overlay-no-legend_image_03.png\n",
      "  Processing image_04.png with 0 nuclei...\n",
      "Saved overlaid image: /home/KutumLabGPU/Documents/santosh/TNBC-project/prediction-results/cellvit/overlay-no-legend/overlay-no-legend_image_04.png\n",
      "  Processing image_05.png with 0 nuclei...\n",
      "Saved overlaid image: /home/KutumLabGPU/Documents/santosh/TNBC-project/prediction-results/cellvit/overlay-no-legend/overlay-no-legend_image_05.png\n",
      "  Processing image_06.png with 0 nuclei...\n",
      "Saved overlaid image: /home/KutumLabGPU/Documents/santosh/TNBC-project/prediction-results/cellvit/overlay-no-legend/overlay-no-legend_image_06.png\n",
      "  Processing image_07.png with 0 nuclei...\n",
      "Saved overlaid image: /home/KutumLabGPU/Documents/santosh/TNBC-project/prediction-results/cellvit/overlay-no-legend/overlay-no-legend_image_07.png\n",
      "  Processing image_08.png with 0 nuclei...\n",
      "Saved overlaid image: /home/KutumLabGPU/Documents/santosh/TNBC-project/prediction-results/cellvit/overlay-no-legend/overlay-no-legend_image_08.png\n",
      "  Processing image_09.png with 0 nuclei...\n",
      "Saved overlaid image: /home/KutumLabGPU/Documents/santosh/TNBC-project/prediction-results/cellvit/overlay-no-legend/overlay-no-legend_image_09.png\n",
      "  Processing image_10.png with 5 nuclei...\n",
      "Saved overlaid image: /home/KutumLabGPU/Documents/santosh/TNBC-project/prediction-results/cellvit/overlay-no-legend/overlay-no-legend_image_10.png\n"
     ]
    }
   ],
   "source": [
    "for image_filename, nuclei_data in predictions_data.items():\n",
    "    original_image_path = os.path.join(ORIGINAL_IMAGES_DIR, image_filename)\n",
    "    output_image_path = os.path.join(OUTPUT_OVERLAY_DIR_NO_LEGEND, f\"overlay-no-legend_{image_filename}\") \n",
    "\n",
    "    # Load the original image\n",
    "    image = cv2.imread(original_image_path)\n",
    "\n",
    "    if image is None:\n",
    "        print(f\"Warning: Could not load image {original_image_path}. Skipping.\")\n",
    "        continue\n",
    "\n",
    "    # Create a copy of the original image to draw on to ensure the original image is not modified in memory\n",
    "    final_image_with_overlay = image.copy() \n",
    "\n",
    "    print(f\"  Processing {image_filename} with {len(nuclei_data)} nuclei...\")\n",
    "\n",
    "    # Iterate through each nucleus in the current image\n",
    "    for nucleus_id, nucleus_info in nuclei_data.items():\n",
    "        contour = nucleus_info.get('contour')\n",
    "        nuclei_type = nucleus_info.get('type', 'UNK') # Default to 'UNK' if type is missing\n",
    "\n",
    "        if contour is None or not contour:\n",
    "            print(f\"    Skipping nucleus {nucleus_id} in {image_filename}: No contour found.\")\n",
    "            continue\n",
    "\n",
    "        contour_np = np.array(contour, dtype=np.int32)\n",
    "        if contour_np.ndim == 2:\n",
    "            contour_np = contour_np.reshape((-1, 1, 2))\n",
    "\n",
    "        color = NUCLEI_TYPE_COLORS.get(nuclei_type, (128, 128, 128))\n",
    "\n",
    "        cv2.drawContours(final_image_with_overlay, [contour_np], -1, color, 2) # thickness of 2  \n",
    "\n",
    "    # Save the overlaid image\n",
    "    cv2.imwrite(output_image_path, final_image_with_overlay)\n",
    "    print(f\"Saved overlaid image: {output_image_path}\")"
   ]
  },
  {
   "cell_type": "code",
   "execution_count": null,
   "id": "bc644d42",
   "metadata": {},
   "outputs": [],
   "source": []
  }
 ],
 "metadata": {
  "kernelspec": {
   "display_name": "base",
   "language": "python",
   "name": "python3"
  },
  "language_info": {
   "codemirror_mode": {
    "name": "ipython",
    "version": 3
   },
   "file_extension": ".py",
   "mimetype": "text/x-python",
   "name": "python",
   "nbconvert_exporter": "python",
   "pygments_lexer": "ipython3",
   "version": "3.11.9"
  }
 },
 "nbformat": 4,
 "nbformat_minor": 5
}
