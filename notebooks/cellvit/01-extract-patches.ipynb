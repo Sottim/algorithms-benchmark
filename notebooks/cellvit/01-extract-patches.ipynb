{
 "cells": [
  {
   "cell_type": "code",
   "execution_count": 2,
   "id": "09479df2",
   "metadata": {},
   "outputs": [],
   "source": [
    "import pandas as pd\n",
    "import numpy as np\n",
    "import PIL as Image\n",
    "import os\n",
    "import cv2"
   ]
  },
  {
   "cell_type": "code",
   "execution_count": 17,
   "id": "0e9dd9dd",
   "metadata": {},
   "outputs": [],
   "source": [
    "# Load the npy images and masks\n",
    "RAW_IMAGES = '/media/network/hdd/public_datasets_archive/01_notebooks/pannuke/raw_files4inference/breast/raw_images/images.npy'\n",
    "RAW_MASKS = '/media/network/hdd/public_datasets_archive/01_notebooks/pannuke/raw_files4inference/breast/masks/masks.npy'"
   ]
  },
  {
   "cell_type": "code",
   "execution_count": 18,
   "id": "5f655421",
   "metadata": {},
   "outputs": [],
   "source": [
    "OUTPUT_BASE_DIR = '/home/KutumLabGPU/Documents/santosh/TNBC-project/input-dir/pannuke/breast'\n",
    "\n",
    "if not os.path.exists(OUTPUT_BASE_DIR):\n",
    "    os.makedirs(OUTPUT_BASE_DIR)\n",
    "\n",
    "OUTPUT_PATCHES_DIR = os.path.join(OUTPUT_BASE_DIR, 'patches')\n",
    "OUTPUT_MASKS_DIR = os.path.join(OUTPUT_BASE_DIR, 'masks')\n",
    "\n",
    "if not os.path.exists(OUTPUT_PATCHES_DIR):\n",
    "    os.makedirs(OUTPUT_PATCHES_DIR)\n",
    "    \n",
    "if not os.path.exists(OUTPUT_MASKS_DIR):\n",
    "    os.makedirs(OUTPUT_MASKS_DIR)"
   ]
  },
  {
   "cell_type": "code",
   "execution_count": 19,
   "id": "a1033fd3",
   "metadata": {},
   "outputs": [],
   "source": [
    "TARGET_PATCH_SIZE = (1024, 1024)"
   ]
  },
  {
   "cell_type": "code",
   "execution_count": 20,
   "id": "57fc78d0",
   "metadata": {},
   "outputs": [
    {
     "name": "stdout",
     "output_type": "stream",
     "text": [
      "Loading images from: /media/network/hdd/public_datasets_archive/01_notebooks/pannuke/raw_files4inference/breast/raw_images/images.npy\n",
      "Loaded images shape: (10, 256, 256, 3)\n"
     ]
    }
   ],
   "source": [
    "print(f\"Loading images from: {RAW_IMAGES}\")\n",
    "images = np.load(RAW_IMAGES, allow_pickle=True)\n",
    "print(f\"Loaded images shape: {images.shape}\")"
   ]
  },
  {
   "cell_type": "code",
   "execution_count": 21,
   "id": "bb44cff6",
   "metadata": {},
   "outputs": [
    {
     "name": "stdout",
     "output_type": "stream",
     "text": [
      "Loading masks from: /media/network/hdd/public_datasets_archive/01_notebooks/pannuke/raw_files4inference/breast/masks/masks.npy\n",
      "Loaded masks shape: (10, 256, 256, 6)\n"
     ]
    }
   ],
   "source": [
    "print(f\"Loading masks from: {RAW_MASKS}\")\n",
    "masks = np.load(RAW_MASKS, allow_pickle=True)\n",
    "print(f\"Loaded masks shape: {masks.shape}\")"
   ]
  },
  {
   "cell_type": "code",
   "execution_count": 22,
   "id": "697fadaf",
   "metadata": {},
   "outputs": [],
   "source": [
    "def upscale_and_save_as_png(data_array: np.ndarray, output_directory: str, target_size: tuple, is_mask: bool = False):\n",
    "    \"\"\"\n",
    "    Upscales a batch of images or masks to a target size and saves them as individual .png files.\n",
    "\n",
    "    Args:\n",
    "        data_array (np.ndarray): The input NumPy array containing images or masks.\n",
    "                                 Expected shape: (num_items, height, width, [channels])\n",
    "        output_directory (str): The path to the directory where the upscaled files will be saved.\n",
    "        target_size (tuple): A tuple (width, height) representing the desired output resolution.\n",
    "        is_mask (bool): If True, uses cv2.INTER_NEAREST interpolation (for masks) and converts to uint8.\n",
    "                        If False, uses cv2.INTER_LINEAR interpolation (for images) and converts to uint8.\n",
    "    \"\"\"\n",
    "    interpolation_method = cv2.INTER_NEAREST if is_mask else cv2.INTER_LINEAR\n",
    "    file_prefix = \"mask\" if is_mask else \"image\"\n",
    "    total_items = data_array.shape[0]\n",
    "\n",
    "    print(f\"Starting upscaling and saving for {total_items} {file_prefix}s as PNGs to {output_directory}...\")\n",
    "\n",
    "    for i in range(total_items):\n",
    "        original_data = data_array[i]\n",
    "\n",
    "        if isinstance(original_data, (list, tuple)): \n",
    "            original_data = np.array(original_data)\n",
    "        \n",
    "        if original_data.dtype != np.float32:\n",
    "            original_data = original_data.astype(np.float32)\n",
    "\n",
    "        upscaled_data = None\n",
    "        if is_mask:\n",
    "            if original_data.ndim == 3 and original_data.shape[2] > 1:\n",
    "            \n",
    "                single_channel_mask = np.argmax(original_data, axis=-1)\n",
    "                upscaled_data = cv2.resize(\n",
    "                    single_channel_mask,\n",
    "                    target_size,\n",
    "                    interpolation=interpolation_method\n",
    "                )\n",
    "            else:\n",
    "                upscaled_data = cv2.resize(\n",
    "                    original_data,\n",
    "                    target_size,\n",
    "                    interpolation=interpolation_method\n",
    "                )\n",
    "            \n",
    "            upscaled_data = np.clip(upscaled_data, 0, 255).astype(np.uint8) \n",
    "        else: \n",
    "            upscaled_data = cv2.resize(\n",
    "                original_data, \n",
    "                target_size,\n",
    "                interpolation=interpolation_method\n",
    "            )\n",
    "            min_val = upscaled_data.min()\n",
    "            max_val = upscaled_data.max()\n",
    "            if max_val == min_val: # Handle cases of uniform images (e.g., completely black or white)\n",
    "                upscaled_data = np.full_like(upscaled_data, 255 if max_val > 0 else 0, dtype=np.uint8)\n",
    "            else:\n",
    "                upscaled_data = ((upscaled_data - min_val) / (max_val - min_val) * 255).astype(np.uint8)\n",
    "\n",
    "        output_filepath = os.path.join(output_directory, f\"{file_prefix}_{i+1:02d}.png\")\n",
    "        cv2.imwrite(output_filepath, upscaled_data)\n",
    "\n",
    "        if (i + 1) % 100 == 0 or (i + 1) == total_items:\n",
    "            print(f\"  Processed and saved {i + 1}/{total_items} {file_prefix}s as PNGs.\")\n"
   ]
  },
  {
   "cell_type": "code",
   "execution_count": 23,
   "id": "0d868e55",
   "metadata": {},
   "outputs": [
    {
     "name": "stdout",
     "output_type": "stream",
     "text": [
      "\n",
      "--- Upscaling and Saving Images as PNGs ---\n",
      "Starting upscaling and saving for 10 images as PNGs to /home/KutumLabGPU/Documents/santosh/TNBC-project/input-dir/pannuke/breast/patches...\n",
      "  Processed and saved 10/10 images as PNGs.\n"
     ]
    }
   ],
   "source": [
    "print(\"\\n--- Upscaling and Saving Images as PNGs ---\")\n",
    "upscale_and_save_as_png(images, OUTPUT_PATCHES_DIR, TARGET_PATCH_SIZE, is_mask=False)"
   ]
  },
  {
   "cell_type": "code",
   "execution_count": 24,
   "id": "210f628e",
   "metadata": {},
   "outputs": [
    {
     "name": "stdout",
     "output_type": "stream",
     "text": [
      "\n",
      "--- Upscaling and Saving Masks as PNGs ---\n",
      "Starting upscaling and saving for 10 masks as PNGs to /home/KutumLabGPU/Documents/santosh/TNBC-project/input-dir/pannuke/breast/masks...\n",
      "  Processed and saved 10/10 masks as PNGs.\n",
      "\n",
      "--- Upscaling and saving process complete! ---\n"
     ]
    }
   ],
   "source": [
    "print(\"\\n--- Upscaling and Saving Masks as PNGs ---\")\n",
    "upscale_and_save_as_png(masks, OUTPUT_MASKS_DIR, TARGET_PATCH_SIZE, is_mask=True)\n",
    "\n",
    "print(\"\\n--- Upscaling and saving process complete! ---\")"
   ]
  },
  {
   "cell_type": "code",
   "execution_count": null,
   "id": "b333065b",
   "metadata": {},
   "outputs": [],
   "source": []
  },
  {
   "cell_type": "code",
   "execution_count": null,
   "id": "3e30e2e2",
   "metadata": {},
   "outputs": [],
   "source": []
  }
 ],
 "metadata": {
  "kernelspec": {
   "display_name": "base",
   "language": "python",
   "name": "python3"
  },
  "language_info": {
   "codemirror_mode": {
    "name": "ipython",
    "version": 3
   },
   "file_extension": ".py",
   "mimetype": "text/x-python",
   "name": "python",
   "nbconvert_exporter": "python",
   "pygments_lexer": "ipython3",
   "version": "3.11.9"
  }
 },
 "nbformat": 4,
 "nbformat_minor": 5
}
